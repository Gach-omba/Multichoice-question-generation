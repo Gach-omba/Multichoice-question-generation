{
  "cells": [
    {
      "cell_type": "code",
      "execution_count": 2,
      "metadata": {
        "id": "1m9PciKxWhh7"
      },
      "outputs": [],
      "source": [
        "# Load model directly\n",
        "from transformers import AutoTokenizer, AutoModelForSeq2SeqLM\n",
        "\n",
        "tokenizer = AutoTokenizer.from_pretrained(\"Gachomba/multichoice-question-generator\")\n",
        "model = AutoModelForSeq2SeqLM.from_pretrained(\"Gachomba/multichoice-question-generator\")"
      ]
    },
    {
      "cell_type": "code",
      "execution_count": null,
      "metadata": {},
      "outputs": [],
      "source": [
        "# tokenize input text\n",
        "import torch\n",
        "device = \"cuda\" if torch.cuda.is_available() else \"cpu\"\n",
        "\n",
        "def tokenize_input(input_text):\n",
        "    inputs = tokenizer(input_text, return_tensors=\"pt\", truncation=True, padding='max_length', max_length=1024)\n",
        "    return inputs.input_ids.to(device), inputs.attention_mask.to(device)\n",
        "\n",
        "# generate output from the model\n",
        "def generate_output(input_text):\n",
        "    input_ids, attention_mask = tokenize_input(input_text)\n",
        "    outputs = model.generate(input_ids=input_ids, attention_mask=attention_mask, max_length=512)\n",
        "    return tokenizer.decode(outputs[0], skip_special_tokens=True)\n",
        "\n",
        "# get user input and generate a response\n",
        "def get_response():\n",
        "    user_input = input(\"Enter your text: \")\n",
        "    response = generate_output(user_input)\n",
        "    print(\"Generated Output:\", response)\n",
        "\n",
        "get_response()"
      ]
    }
  ],
  "metadata": {
    "colab": {
      "provenance": []
    },
    "kernelspec": {
      "display_name": "Python 3",
      "name": "python3"
    },
    "language_info": {
      "name": "python"
    }
  },
  "nbformat": 4,
  "nbformat_minor": 0
}
